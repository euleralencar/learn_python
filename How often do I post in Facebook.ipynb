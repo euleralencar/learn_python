{
 "cells": [
  {
   "cell_type": "markdown",
   "metadata": {},
   "source": [
    "# Frequência de postagens no facebook"
   ]
  },
  {
   "cell_type": "markdown",
   "metadata": {},
   "source": [
    "Caso o pacote não esteja instalado, use o comando abaixo (retirando o '#')"
   ]
  },
  {
   "cell_type": "code",
   "execution_count": 36,
   "metadata": {
    "scrolled": true
   },
   "outputs": [],
   "source": [
    "# !pip install pandas\n",
    "# !pip install matplotlib\n",
    "# !pip install seaborn"
   ]
  },
  {
   "cell_type": "markdown",
   "metadata": {},
   "source": [
    "Vamos precisar importar as seguintes bibliotecas"
   ]
  },
  {
   "cell_type": "code",
   "execution_count": 2,
   "metadata": {},
   "outputs": [],
   "source": [
    "import pandas as pd\n",
    "import matplotlib.pyplot as plt\n",
    "import seaborn as sns\n",
    "import numpy as np"
   ]
  },
  {
   "cell_type": "code",
   "execution_count": 3,
   "metadata": {},
   "outputs": [],
   "source": [
    "%matplotlib inline"
   ]
  },
  {
   "cell_type": "markdown",
   "metadata": {},
   "source": [
    "Leitura dos dados baixados no site do facebook. Os dados podem ser baixados aqui: https://www.facebook.com/dyi/?referrer=yfi_settings"
   ]
  },
  {
   "cell_type": "code",
   "execution_count": 4,
   "metadata": {},
   "outputs": [
    {
     "data": {
      "text/html": [
       "<div>\n",
       "<style scoped>\n",
       "    .dataframe tbody tr th:only-of-type {\n",
       "        vertical-align: middle;\n",
       "    }\n",
       "\n",
       "    .dataframe tbody tr th {\n",
       "        vertical-align: top;\n",
       "    }\n",
       "\n",
       "    .dataframe thead th {\n",
       "        text-align: right;\n",
       "    }\n",
       "</style>\n",
       "<table border=\"1\" class=\"dataframe\">\n",
       "  <thead>\n",
       "    <tr style=\"text-align: right;\">\n",
       "      <th></th>\n",
       "      <th>timestamp</th>\n",
       "      <th>data</th>\n",
       "      <th>title</th>\n",
       "      <th>attachments</th>\n",
       "      <th>tags</th>\n",
       "    </tr>\n",
       "  </thead>\n",
       "  <tbody>\n",
       "    <tr>\n",
       "      <th>0</th>\n",
       "      <td>2020-05-21 04:11:52</td>\n",
       "      <td>[{'post': 'TÃ´ um tempo sem entrar no Face. Al...</td>\n",
       "      <td>Euler Alencar atualizou o status dele.</td>\n",
       "      <td>NaN</td>\n",
       "      <td>NaN</td>\n",
       "    </tr>\n",
       "    <tr>\n",
       "      <th>1</th>\n",
       "      <td>2020-05-15 19:27:48</td>\n",
       "      <td>[{'post': 'A pandemia tÃ¡ matando mais ministr...</td>\n",
       "      <td>Euler Alencar atualizou o status dele.</td>\n",
       "      <td>NaN</td>\n",
       "      <td>NaN</td>\n",
       "    </tr>\n",
       "    <tr>\n",
       "      <th>2</th>\n",
       "      <td>2020-04-06 04:39:00</td>\n",
       "      <td>[{'post': 'Repita comigo: \"Pensar diferente (s...</td>\n",
       "      <td>Euler Alencar atualizou o status dele.</td>\n",
       "      <td>NaN</td>\n",
       "      <td>NaN</td>\n",
       "    </tr>\n",
       "  </tbody>\n",
       "</table>\n",
       "</div>"
      ],
      "text/plain": [
       "            timestamp                                               data  \\\n",
       "0 2020-05-21 04:11:52  [{'post': 'TÃ´ um tempo sem entrar no Face. Al...   \n",
       "1 2020-05-15 19:27:48  [{'post': 'A pandemia tÃ¡ matando mais ministr...   \n",
       "2 2020-04-06 04:39:00  [{'post': 'Repita comigo: \"Pensar diferente (s...   \n",
       "\n",
       "                                    title attachments tags  \n",
       "0  Euler Alencar atualizou o status dele.         NaN  NaN  \n",
       "1  Euler Alencar atualizou o status dele.         NaN  NaN  \n",
       "2  Euler Alencar atualizou o status dele.         NaN  NaN  "
      ]
     },
     "execution_count": 4,
     "metadata": {},
     "output_type": "execute_result"
    }
   ],
   "source": [
    "# leia o arquivo json\n",
    "df = pd.read_json('C:\\\\Users\\\\euler\\\\OneDrive\\\\Documents\\\\Projetos\\\\projetos_py\\\\How to Facebook\\\\facebook-euleralencar\\\\posts\\\\your_posts_1.json')\n",
    "\n",
    "df.head(3)"
   ]
  },
  {
   "cell_type": "code",
   "execution_count": 5,
   "metadata": {},
   "outputs": [],
   "source": [
    "# renomeia a coluna timestamp\n",
    "df.rename(columns={'timestamp': 'date'}, inplace=True)"
   ]
  },
  {
   "cell_type": "code",
   "execution_count": 6,
   "metadata": {},
   "outputs": [
    {
     "data": {
      "text/html": [
       "<div>\n",
       "<style scoped>\n",
       "    .dataframe tbody tr th:only-of-type {\n",
       "        vertical-align: middle;\n",
       "    }\n",
       "\n",
       "    .dataframe tbody tr th {\n",
       "        vertical-align: top;\n",
       "    }\n",
       "\n",
       "    .dataframe thead th {\n",
       "        text-align: right;\n",
       "    }\n",
       "</style>\n",
       "<table border=\"1\" class=\"dataframe\">\n",
       "  <thead>\n",
       "    <tr style=\"text-align: right;\">\n",
       "      <th></th>\n",
       "      <th>date</th>\n",
       "      <th>data</th>\n",
       "      <th>title</th>\n",
       "      <th>attachments</th>\n",
       "      <th>tags</th>\n",
       "    </tr>\n",
       "  </thead>\n",
       "  <tbody>\n",
       "    <tr>\n",
       "      <th>0</th>\n",
       "      <td>2020-05-21 04:11:52</td>\n",
       "      <td>[{'post': 'TÃ´ um tempo sem entrar no Face. Al...</td>\n",
       "      <td>Euler Alencar atualizou o status dele.</td>\n",
       "      <td>NaN</td>\n",
       "      <td>NaN</td>\n",
       "    </tr>\n",
       "    <tr>\n",
       "      <th>1</th>\n",
       "      <td>2020-05-15 19:27:48</td>\n",
       "      <td>[{'post': 'A pandemia tÃ¡ matando mais ministr...</td>\n",
       "      <td>Euler Alencar atualizou o status dele.</td>\n",
       "      <td>NaN</td>\n",
       "      <td>NaN</td>\n",
       "    </tr>\n",
       "    <tr>\n",
       "      <th>2</th>\n",
       "      <td>2020-04-06 04:39:00</td>\n",
       "      <td>[{'post': 'Repita comigo: \"Pensar diferente (s...</td>\n",
       "      <td>Euler Alencar atualizou o status dele.</td>\n",
       "      <td>NaN</td>\n",
       "      <td>NaN</td>\n",
       "    </tr>\n",
       "    <tr>\n",
       "      <th>3</th>\n",
       "      <td>2020-01-29 05:23:28</td>\n",
       "      <td>[{'update_timestamp': 1580275408}]</td>\n",
       "      <td>NaN</td>\n",
       "      <td>[]</td>\n",
       "      <td>NaN</td>\n",
       "    </tr>\n",
       "    <tr>\n",
       "      <th>4</th>\n",
       "      <td>2019-10-07 15:48:23</td>\n",
       "      <td>[{'post': 'https://www.youtube.com/watch?v=IvT...</td>\n",
       "      <td>NaN</td>\n",
       "      <td>[{'data': [{'external_context': {'url': 'https...</td>\n",
       "      <td>NaN</td>\n",
       "    </tr>\n",
       "  </tbody>\n",
       "</table>\n",
       "</div>"
      ],
      "text/plain": [
       "                 date                                               data  \\\n",
       "0 2020-05-21 04:11:52  [{'post': 'TÃ´ um tempo sem entrar no Face. Al...   \n",
       "1 2020-05-15 19:27:48  [{'post': 'A pandemia tÃ¡ matando mais ministr...   \n",
       "2 2020-04-06 04:39:00  [{'post': 'Repita comigo: \"Pensar diferente (s...   \n",
       "3 2020-01-29 05:23:28                 [{'update_timestamp': 1580275408}]   \n",
       "4 2019-10-07 15:48:23  [{'post': 'https://www.youtube.com/watch?v=IvT...   \n",
       "\n",
       "                                    title  \\\n",
       "0  Euler Alencar atualizou o status dele.   \n",
       "1  Euler Alencar atualizou o status dele.   \n",
       "2  Euler Alencar atualizou o status dele.   \n",
       "3                                     NaN   \n",
       "4                                     NaN   \n",
       "\n",
       "                                         attachments tags  \n",
       "0                                                NaN  NaN  \n",
       "1                                                NaN  NaN  \n",
       "2                                                NaN  NaN  \n",
       "3                                                 []  NaN  \n",
       "4  [{'data': [{'external_context': {'url': 'https...  NaN  "
      ]
     },
     "execution_count": 6,
     "metadata": {},
     "output_type": "execute_result"
    }
   ],
   "source": [
    "df.head()"
   ]
  },
  {
   "cell_type": "code",
   "execution_count": 7,
   "metadata": {},
   "outputs": [],
   "source": [
    "# drop as colunas desnecessárias\n",
    "df = df.drop(['attachments', 'title', 'tags'], axis=1)"
   ]
  },
  {
   "cell_type": "code",
   "execution_count": 8,
   "metadata": {},
   "outputs": [
    {
     "data": {
      "text/html": [
       "<div>\n",
       "<style scoped>\n",
       "    .dataframe tbody tr th:only-of-type {\n",
       "        vertical-align: middle;\n",
       "    }\n",
       "\n",
       "    .dataframe tbody tr th {\n",
       "        vertical-align: top;\n",
       "    }\n",
       "\n",
       "    .dataframe thead th {\n",
       "        text-align: right;\n",
       "    }\n",
       "</style>\n",
       "<table border=\"1\" class=\"dataframe\">\n",
       "  <thead>\n",
       "    <tr style=\"text-align: right;\">\n",
       "      <th></th>\n",
       "      <th>date</th>\n",
       "      <th>data</th>\n",
       "    </tr>\n",
       "  </thead>\n",
       "  <tbody>\n",
       "    <tr>\n",
       "      <th>0</th>\n",
       "      <td>2020-05-21 04:11:52</td>\n",
       "      <td>[{'post': 'TÃ´ um tempo sem entrar no Face. Al...</td>\n",
       "    </tr>\n",
       "    <tr>\n",
       "      <th>1</th>\n",
       "      <td>2020-05-15 19:27:48</td>\n",
       "      <td>[{'post': 'A pandemia tÃ¡ matando mais ministr...</td>\n",
       "    </tr>\n",
       "    <tr>\n",
       "      <th>2</th>\n",
       "      <td>2020-04-06 04:39:00</td>\n",
       "      <td>[{'post': 'Repita comigo: \"Pensar diferente (s...</td>\n",
       "    </tr>\n",
       "  </tbody>\n",
       "</table>\n",
       "</div>"
      ],
      "text/plain": [
       "                 date                                               data\n",
       "0 2020-05-21 04:11:52  [{'post': 'TÃ´ um tempo sem entrar no Face. Al...\n",
       "1 2020-05-15 19:27:48  [{'post': 'A pandemia tÃ¡ matando mais ministr...\n",
       "2 2020-04-06 04:39:00  [{'post': 'Repita comigo: \"Pensar diferente (s..."
      ]
     },
     "execution_count": 8,
     "metadata": {},
     "output_type": "execute_result"
    }
   ],
   "source": [
    "# vamos trnsformar 'date' em formato tempo para ter certeza\n",
    "pd.to_datetime(df['date'])\n",
    "\n",
    "df.head(3)"
   ]
  },
  {
   "cell_type": "code",
   "execution_count": 9,
   "metadata": {},
   "outputs": [
    {
     "name": "stdout",
     "output_type": "stream",
     "text": [
      "(4014, 2)\n"
     ]
    }
   ],
   "source": [
    "# Dimensão da tabela\n",
    "print(df.shape)"
   ]
  },
  {
   "cell_type": "code",
   "execution_count": 74,
   "metadata": {},
   "outputs": [],
   "source": [
    "index = df.index\n",
    "number_of_rows = len(index)"
   ]
  },
  {
   "cell_type": "markdown",
   "metadata": {},
   "source": [
    "Quantidade de post desde de 2011"
   ]
  },
  {
   "cell_type": "code",
   "execution_count": 75,
   "metadata": {},
   "outputs": [
    {
     "data": {
      "text/plain": [
       "4014"
      ]
     },
     "execution_count": 75,
     "metadata": {},
     "output_type": "execute_result"
    }
   ],
   "source": [
    "number_of_rows"
   ]
  },
  {
   "cell_type": "markdown",
   "metadata": {},
   "source": [
    "Supondo que cada post tenha demorado entre 10 e 30 minutos, vamos calcular o intervalo de tempo gasto."
   ]
  },
  {
   "cell_type": "code",
   "execution_count": 78,
   "metadata": {},
   "outputs": [
    {
     "data": {
      "text/plain": [
       "(27.875, 83.625)"
      ]
     },
     "execution_count": 78,
     "metadata": {},
     "output_type": "execute_result"
    }
   ],
   "source": [
    "(number_of_rows*10/60)/24,(number_of_rows*30/60)/24"
   ]
  },
  {
   "cell_type": "markdown",
   "metadata": {},
   "source": [
    "Ou seja, se considerar somente o tempo de produção de um post, foram gastos de 1 mês a 3 meses de 2011 até 2020. "
   ]
  },
  {
   "cell_type": "code",
   "execution_count": 10,
   "metadata": {},
   "outputs": [
    {
     "data": {
      "text/html": [
       "<div>\n",
       "<style scoped>\n",
       "    .dataframe tbody tr th:only-of-type {\n",
       "        vertical-align: middle;\n",
       "    }\n",
       "\n",
       "    .dataframe tbody tr th {\n",
       "        vertical-align: top;\n",
       "    }\n",
       "\n",
       "    .dataframe thead th {\n",
       "        text-align: right;\n",
       "    }\n",
       "</style>\n",
       "<table border=\"1\" class=\"dataframe\">\n",
       "  <thead>\n",
       "    <tr style=\"text-align: right;\">\n",
       "      <th></th>\n",
       "      <th>date</th>\n",
       "      <th>data</th>\n",
       "    </tr>\n",
       "  </thead>\n",
       "  <tbody>\n",
       "    <tr>\n",
       "      <th>4011</th>\n",
       "      <td>2011-04-29 11:36:54</td>\n",
       "      <td>[{'post': 'http://www.youtube.com/watch?v=brFi...</td>\n",
       "    </tr>\n",
       "    <tr>\n",
       "      <th>4012</th>\n",
       "      <td>2011-04-29 04:05:25</td>\n",
       "      <td>[{'post': 'http://www.youtube.com/watch?v=_pqK...</td>\n",
       "    </tr>\n",
       "    <tr>\n",
       "      <th>4013</th>\n",
       "      <td>2011-04-24 14:56:55</td>\n",
       "      <td>[{'post': 'http://oermodolampiao.wordpress.com...</td>\n",
       "    </tr>\n",
       "  </tbody>\n",
       "</table>\n",
       "</div>"
      ],
      "text/plain": [
       "                    date                                               data\n",
       "4011 2011-04-29 11:36:54  [{'post': 'http://www.youtube.com/watch?v=brFi...\n",
       "4012 2011-04-29 04:05:25  [{'post': 'http://www.youtube.com/watch?v=_pqK...\n",
       "4013 2011-04-24 14:56:55  [{'post': 'http://oermodolampiao.wordpress.com..."
      ]
     },
     "execution_count": 10,
     "metadata": {},
     "output_type": "execute_result"
    }
   ],
   "source": [
    "df.tail(3)"
   ]
  },
  {
   "cell_type": "markdown",
   "metadata": {},
   "source": [
    "O pandas foi projetado para facilitar o trabalho com dados de séries temporais. Precisamos fazer duas coisas aqui:\n",
    "\n",
    "1. Defina a coluna de data como o índice de nosso DataFrame.\n",
    "2. Agrupe os dados por mês, contando quantas postagens ocorrem em cada mês.\n",
    "\n",
    "Para a primeira etapa, podemos usar set_index (). A segunda será usando o comando resample()."
   ]
  },
  {
   "cell_type": "code",
   "execution_count": 11,
   "metadata": {},
   "outputs": [],
   "source": [
    "df = df.set_index('date')"
   ]
  },
  {
   "cell_type": "code",
   "execution_count": 12,
   "metadata": {},
   "outputs": [
    {
     "data": {
      "text/html": [
       "<div>\n",
       "<style scoped>\n",
       "    .dataframe tbody tr th:only-of-type {\n",
       "        vertical-align: middle;\n",
       "    }\n",
       "\n",
       "    .dataframe tbody tr th {\n",
       "        vertical-align: top;\n",
       "    }\n",
       "\n",
       "    .dataframe thead th {\n",
       "        text-align: right;\n",
       "    }\n",
       "</style>\n",
       "<table border=\"1\" class=\"dataframe\">\n",
       "  <thead>\n",
       "    <tr style=\"text-align: right;\">\n",
       "      <th></th>\n",
       "      <th>data</th>\n",
       "    </tr>\n",
       "    <tr>\n",
       "      <th>date</th>\n",
       "      <th></th>\n",
       "    </tr>\n",
       "  </thead>\n",
       "  <tbody>\n",
       "    <tr>\n",
       "      <th>2020-05-21 04:11:52</th>\n",
       "      <td>[{'post': 'TÃ´ um tempo sem entrar no Face. Al...</td>\n",
       "    </tr>\n",
       "    <tr>\n",
       "      <th>2020-05-15 19:27:48</th>\n",
       "      <td>[{'post': 'A pandemia tÃ¡ matando mais ministr...</td>\n",
       "    </tr>\n",
       "    <tr>\n",
       "      <th>2020-04-06 04:39:00</th>\n",
       "      <td>[{'post': 'Repita comigo: \"Pensar diferente (s...</td>\n",
       "    </tr>\n",
       "    <tr>\n",
       "      <th>2020-01-29 05:23:28</th>\n",
       "      <td>[{'update_timestamp': 1580275408}]</td>\n",
       "    </tr>\n",
       "    <tr>\n",
       "      <th>2019-10-07 15:48:23</th>\n",
       "      <td>[{'post': 'https://www.youtube.com/watch?v=IvT...</td>\n",
       "    </tr>\n",
       "  </tbody>\n",
       "</table>\n",
       "</div>"
      ],
      "text/plain": [
       "                                                                  data\n",
       "date                                                                  \n",
       "2020-05-21 04:11:52  [{'post': 'TÃ´ um tempo sem entrar no Face. Al...\n",
       "2020-05-15 19:27:48  [{'post': 'A pandemia tÃ¡ matando mais ministr...\n",
       "2020-04-06 04:39:00  [{'post': 'Repita comigo: \"Pensar diferente (s...\n",
       "2020-01-29 05:23:28                 [{'update_timestamp': 1580275408}]\n",
       "2019-10-07 15:48:23  [{'post': 'https://www.youtube.com/watch?v=IvT..."
      ]
     },
     "execution_count": 12,
     "metadata": {},
     "output_type": "execute_result"
    }
   ],
   "source": [
    "df.head()"
   ]
  },
  {
   "cell_type": "markdown",
   "metadata": {},
   "source": [
    "## Quantidade de posts por mês"
   ]
  },
  {
   "cell_type": "code",
   "execution_count": 13,
   "metadata": {},
   "outputs": [
    {
     "data": {
      "text/plain": [
       "date\n",
       "2011-04-01    11\n",
       "2011-05-01    83\n",
       "2011-06-01    60\n",
       "2011-07-01    84\n",
       "2011-08-01    48\n",
       "              ..\n",
       "2020-01-01     1\n",
       "2020-02-01     0\n",
       "2020-03-01     0\n",
       "2020-04-01     1\n",
       "2020-05-01     2\n",
       "Freq: MS, Name: data, Length: 110, dtype: int64"
      ]
     },
     "execution_count": 13,
     "metadata": {},
     "output_type": "execute_result"
    }
   ],
   "source": [
    "post_counts = df['data'].resample('MS').size()\n",
    "post_counts"
   ]
  },
  {
   "cell_type": "code",
   "execution_count": 14,
   "metadata": {},
   "outputs": [
    {
     "name": "stderr",
     "output_type": "stream",
     "text": [
      "C:\\Users\\euler\\Python\\envs\\base (root)\\lib\\site-packages\\seaborn\\_decorators.py:36: FutureWarning: Pass the following variables as keyword args: x, y. From version 0.12, the only valid positional argument will be `data`, and passing other arguments without an explicit keyword will result in an error or misinterpretation.\n",
      "  warnings.warn(\n"
     ]
    },
    {
     "data": {
      "image/png": "[encoded data removed]",
      "text/plain": [
       "<Figure size 2880x1440 with 1 Axes>"
      ]
     },
     "metadata": {},
     "output_type": "display_data"
    }
   ],
   "source": [
    "# configirar o tamanho e a fonte\n",
    "sns.set(rc={'figure.figsize':(40,20)})\n",
    "sns.set(font_scale=3)\n",
    "\n",
    "# configure o label de x\n",
    "x_labels = post_counts.index\n",
    "\n",
    "# crie um gráfico de barra\n",
    "sns.barplot(x_labels, post_counts, color=\"blue\")\n",
    "\n",
    "# somente mostre o label de x-axis começando em Jan 1 e mostrando cada ano\n",
    "tick_positions = np.arange(10, len(x_labels), step=24)\n",
    "\n",
    "#reformatando a data para mostrar reformar somente o ano onlyplt.ylabel(\"post counts\")\n",
    "plt.xticks(tick_positions, x_labels[tick_positions].strftime(\"%Y\"))\n",
    "\n",
    "# mostrar o plot\n",
    "plt.show()"
   ]
  },
  {
   "cell_type": "markdown",
   "metadata": {},
   "source": [
    "## Quantidade de postagens por trimestre"
   ]
  },
  {
   "cell_type": "code",
   "execution_count": 15,
   "metadata": {},
   "outputs": [
    {
     "data": {
      "text/plain": [
       "date\n",
       "2011-06-30    154\n",
       "2011-09-30    200\n",
       "2011-12-31    171\n",
       "2012-03-31    113\n",
       "2012-06-30    225\n",
       "2012-09-30    211\n",
       "2012-12-31    181\n",
       "2013-03-31    192\n",
       "2013-06-30    220\n",
       "2013-09-30    137\n",
       "2013-12-31    136\n",
       "2014-03-31     60\n",
       "2014-06-30     85\n",
       "2014-09-30    170\n",
       "2014-12-31    206\n",
       "2015-03-31    166\n",
       "2015-06-30    108\n",
       "2015-09-30     98\n",
       "2015-12-31    130\n",
       "2016-03-31    137\n",
       "2016-06-30    217\n",
       "2016-09-30    135\n",
       "2016-12-31    144\n",
       "2017-03-31    106\n",
       "2017-06-30     24\n",
       "2017-09-30     20\n",
       "2017-12-31      2\n",
       "2018-03-31     31\n",
       "2018-06-30      4\n",
       "2018-09-30      5\n",
       "2018-12-31    153\n",
       "2019-03-31     14\n",
       "2019-06-30     31\n",
       "2019-09-30     23\n",
       "2019-12-31      1\n",
       "2020-03-31      1\n",
       "2020-06-30      3\n",
       "Freq: Q-DEC, Name: data, dtype: int64"
      ]
     },
     "execution_count": 15,
     "metadata": {},
     "output_type": "execute_result"
    }
   ],
   "source": [
    "post_counts = df['data'].resample('Q').size()\n",
    "post_counts"
   ]
  },
  {
   "cell_type": "code",
   "execution_count": 46,
   "metadata": {},
   "outputs": [],
   "source": [
    "positionx = np.arange(0, len(post_counts), step=1)"
   ]
  },
  {
   "cell_type": "code",
   "execution_count": 80,
   "metadata": {
    "scrolled": true
   },
   "outputs": [
    {
     "name": "stderr",
     "output_type": "stream",
     "text": [
      "C:\\Users\\euler\\Python\\envs\\base (root)\\lib\\site-packages\\seaborn\\_decorators.py:36: FutureWarning: Pass the following variables as keyword args: x, y. From version 0.12, the only valid positional argument will be `data`, and passing other arguments without an explicit keyword will result in an error or misinterpretation.\n",
      "  warnings.warn(\n"
     ]
    },
    {
     "data": {
      "image/png": "[encoded data removed]",
      "text/plain": [
       "<Figure size 2880x1440 with 1 Axes>"
      ]
     },
     "metadata": {},
     "output_type": "display_data"
    }
   ],
   "source": [
    "# configirar o tamanho e a fonte\n",
    "sns.set(rc={'figure.figsize':(40,20)})\n",
    "sns.set(font_scale=3)\n",
    "\n",
    "# configure o label de x\n",
    "x_labels = post_counts.index\n",
    "\n",
    "# crie um gráfico de barra\n",
    "sns.barplot(x_labels, post_counts, color=\"blue\")\n",
    "\n",
    "# somente mostre o label de x-axis começando em Jan 1 e mostrando cada ano\n",
    "tick_positions = np.arange(3, len(x_labels), step=4)\n",
    "\n",
    "#reformatando a data para mostrar reformar somente o ano onlyplt.ylabel(\"post counts\")\n",
    "plt.xticks(tick_positions, x_labels[tick_positions].strftime(\"%Y\"))\n",
    "\n",
    "#incluir linha com a média para comparação\n",
    "plt.axhline(y=post_counts.mean(), linewidth=2, linestyle='--', color='#03bafc')\n",
    "    \n",
    "# mostrar o plot\n",
    "plt.show()"
   ]
  },
  {
   "cell_type": "code",
   "execution_count": 17,
   "metadata": {},
   "outputs": [],
   "source": [
    "#Fonte: https://stackoverflow.com/questions/28129606/how-to-create-a-matplotlib-bar-chart-with-a-threshold-line"
   ]
  },
  {
   "cell_type": "markdown",
   "metadata": {},
   "source": [
    "A partir dos dados acima é possível criar um modelo de série temporal para verificar o momento de quebra da série."
   ]
  }
 ],
 "metadata": {
  "kernelspec": {
   "display_name": "Python 3",
   "language": "python",
   "name": "python3"
  },
  "language_info": {
   "codemirror_mode": {
    "name": "ipython",
    "version": 3
   },
   "file_extension": ".py",
   "mimetype": "text/x-python",
   "name": "python",
   "nbconvert_exporter": "python",
   "pygments_lexer": "ipython3",
   "version": "3.9.2"
  }
 },
 "nbformat": 4,
 "nbformat_minor": 4
}
